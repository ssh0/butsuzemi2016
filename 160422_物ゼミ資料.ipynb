{
 "cells": [
  {
   "cell_type": "markdown",
   "metadata": {},
   "source": [
    "# 物理学研究ゼミナール 「現象を数理モデル化する」\n",
    "\n",
    "山崎研究室 修士2年 藤本將太郎"
   ]
  },
  {
   "cell_type": "markdown",
   "metadata": {
    "slideshow": {
     "slide_type": "slide"
    }
   },
   "source": [
    "# 課題内容\n",
    "\n",
    "* ロジスティック写像について，そのモデルの背景と構造を理解する\n",
    "* 実際に数値シミュレーションを行い，いろいろなパラメータに対する時系列データをプロットする\n",
    "* パラメータによる挙動の変化を観察し，カオスに対する理解を深める"
   ]
  },
  {
   "cell_type": "markdown",
   "metadata": {
    "slideshow": {
     "slide_type": "slide"
    }
   },
   "source": [
    "# モデルの背景\n",
    "\n",
    "生物の個体数増加のモデル(マルサスモデル)  \n",
    "個体数$N$，成長率$\\alpha$(定数)として\n",
    "\n",
    "$$ \\frac{\\mathrm{d}N}{\\mathrm{d}t} = \\alpha N $$\n",
    "\n",
    "差分方程式にすると，第$n$世代での個体数$P_{n}$として\n",
    "\n",
    "$$ P_{n+1} = \\alpha P_{n}$$\n",
    "\n",
    "となる．"
   ]
  },
  {
   "cell_type": "markdown",
   "metadata": {
    "slideshow": {
     "slide_type": "fragment"
    }
   },
   "source": [
    "$\\alpha > 1$のとき個体数は等比級数的に無限大に発散し，$\\alpha < 1$のときは0に収束する\n",
    "\n",
    "$\\Rightarrow$このモデルは現象を適切に表したモデルとは言えない．"
   ]
  },
  {
   "cell_type": "markdown",
   "metadata": {
    "slideshow": {
     "slide_type": "subslide"
    }
   },
   "source": [
    "そこで次に個体数が増加するにつれて成長率が線形に減少する場合\n",
    "\n",
    "$$ P_{n+1} = P_{n}(a - bP_{n}) $$\n",
    "\n",
    "を考える．"
   ]
  },
  {
   "cell_type": "markdown",
   "metadata": {
    "slideshow": {
     "slide_type": "fragment"
    }
   },
   "source": [
    "このときこの式は$P_{n}$の2乗を含んでいるので，非線形の方程式となる\n",
    "\n",
    "* $P_{n} = (a/b)x_{n}$とおく\n",
    "\n",
    "$$ x_{n+1} = ax_{n}(1 - x_{n}) $$\n",
    "\n",
    "* $r=a/4$を導入\n",
    "\n",
    "$$ x_{n+1} = f(x_{n}) = 4r x_{n}(1 - x_{n}) .$$"
   ]
  },
  {
   "cell_type": "markdown",
   "metadata": {
    "slideshow": {
     "slide_type": "subslide"
    }
   },
   "source": [
    "$x_{n} > 1$の時$x_{n}$は負になるので，以降では$0 \\le x_{n} \\le 1$とする．\n",
    "\n",
    "この漸化式を，パラメータ$r\\in (0, 1)$を様々に変えながらプロットし，その時間発展を見る．\n",
    "\n",
    "\n",
    "(実際の現象との対応: 繁殖率と，個体数が増えることによる繁殖率の低下率との兼ね合いで，将来その種族がどのような個体数変動をするかを予測する)"
   ]
  },
  {
   "cell_type": "markdown",
   "metadata": {
    "slideshow": {
     "slide_type": "slide"
    }
   },
   "source": [
    "# シミュレーションの実際\n",
    "\n",
    "1. 漸化式$x_{n+1} = 4r x_{n}(1-a_{x})$をエクセル上で$r$の値を様々に変えながら計算し，  \n",
    "それぞれの代表的な場合についてその時系列データをプロット，振る舞いの概要を理解  \n",
    "(具体的には以下を確認する)\n",
    "    * $r$の値が小さいときには$x=0$が安定な固定点，$r > 0.25$では不安定な固定点\n",
    "    * $0.25 < r < 0.75$について，すべての軌跡が$1 - 1/4r$に近づくこと\n",
    "    * $r > 0.75$について，長時間後の振る舞いが周期的\n",
    "2. 長時間後($n_{\\mathrm{long}}$)の振る舞いを調べるために，横軸$r \\in (0.7 , 1.0]$，縦軸$x_{k} (k \\in [n_\\mathrm{{long}}, n_{\\mathrm{max}}])$としてプロットを行う．  \n",
    "得られたグラフから何が読み取れるか．"
   ]
  },
  {
   "cell_type": "markdown",
   "metadata": {
    "slideshow": {
     "slide_type": "slide"
    }
   },
   "source": [
    "# 考察項目\n",
    "\n",
    "* カオスの一般的な概念の理解  \n",
    "    * カオスの定義\n",
    "    * アトラクター\n",
    "    * 固定点\n",
    "    * リミットサイクル\n",
    "* 周期倍化\n",
    "* "
   ]
  },
  {
   "cell_type": "markdown",
   "metadata": {
    "slideshow": {
     "slide_type": "slide"
    }
   },
   "source": [
    "# Demo\n",
    "\n",
    "プログラミング言語(`Python`)を用いたシミュレーションで時間発展の様子を見てみる"
   ]
  },
  {
   "cell_type": "code",
   "execution_count": 2,
   "metadata": {
    "collapsed": true,
    "slideshow": {
     "slide_type": "subslide"
    }
   },
   "outputs": [],
   "source": [
    "%matplotlib inline\n",
    "import matplotlib.pylab as plt\n",
    "from ipywidgets import *\n",
    "import ipywidgets as widgets\n",
    "\n",
    "\n",
    "def mapping(x0=0.6, r=0.745, nmax=400):\n",
    "    x = [x0]\n",
    "    for i in range(nmax):\n",
    "        t = 4.0 * r * x[i] * (1 - x[i])\n",
    "        x.append(t)\n",
    "    n = range(nmax + 1)\n",
    "    l, = plt.plot([], [], label='$x_{0}\\ =' + str(x0) + ' : '\n",
    "             + 'r\\ =' + str(r) + ' : '\n",
    "             + 'n_{\\mathrm{max}}\\ =' + str(nmax) + '$')\n",
    "    l.set_data(n, x)\n",
    "    if r > 0.25 and r < 0.75:\n",
    "        xfi = 1. - 1. / (4. * r)\n",
    "        plt.plot([0, nmax], [xfi] * 2,\n",
    "             label=r'$x = 1 - 1 / 4r = ' + str(xfi) + '$'\n",
    "             )\n",
    "    plt.gca().set_xlim(0, nmax)\n",
    "    plt.gca().set_ylim(-0.05, 1.0)\n",
    "    plt.xlabel('$n$')\n",
    "    plt.ylabel('$x$')\n",
    "    plt.title('Iterate map')\n",
    "    plt.legend(loc=\"best\")\n",
    "    plt.show()\n",
    "    "
   ]
  },
  {
   "cell_type": "code",
   "execution_count": 3,
   "metadata": {
    "collapsed": false,
    "scrolled": false,
    "slideshow": {
     "slide_type": "subslide"
    }
   },
   "outputs": [
    {
     "data": {
      "image/png": "[encoded data removed]",
      "text/plain": [
       "<matplotlib.figure.Figure at 0x7f6a9296fad0>"
      ]
     },
     "metadata": {},
     "output_type": "display_data"
    }
   ],
   "source": [
    "interact(mapping, x0=(0., 1., 0.1), r=(0. , 1., 0.001), nmax=(100, 500, 100));"
   ]
  },
  {
   "cell_type": "markdown",
   "metadata": {
    "slideshow": {
     "slide_type": "slide"
    }
   },
   "source": [
    "# 周期倍化，カオスの発現\n",
    "\n",
    "パラメータ$r$の値によって，長時間後の振る舞いがどう変わるか?"
   ]
  },
  {
   "cell_type": "markdown",
   "metadata": {
    "slideshow": {
     "slide_type": "fragment"
    }
   },
   "source": [
    "| パラメータ        | 値 |\n",
    "| ---                | ---                     |\n",
    "|$r$                 |  $r \\in [0.7, 1.0]$ ($0.01$刻み) |\n",
    "|初期条件           | $x_{0} = 0.3$ |\n",
    "|プロットまでに無視する世代数 | $1000$ |\n",
    "|各$r$でプロットする点の数     | $50$ |"
   ]
  },
  {
   "cell_type": "code",
   "execution_count": 6,
   "metadata": {
    "collapsed": true,
    "slideshow": {
     "slide_type": "subslide"
    }
   },
   "outputs": [],
   "source": [
    "import numpy as np\n",
    "\n",
    "def bifurcate(x0, ntransient, nplot, r0, rmax, dr):\n",
    "    global x\n",
    "    count = int((rmax - r0) / dr)\n",
    "    fig = [_Plot(r0 + dr * n, x0, ntransient, nplot) for n in range(count + 1)]\n",
    "    plt.gca().set_xlim(r0, rmax)\n",
    "    plt.gca().set_ylim(np.min(x), np.max(x))\n",
    "    plt.xlabel('$r$')\n",
    "    plt.ylabel('$x$')\n",
    "    plt.title('Bifurcation Diagram')\n",
    "    plt.show()\n",
    "\n",
    "def _Plot(r, x0, ntransient, nplot):\n",
    "    global x\n",
    "\n",
    "    def logistic(x_i, r):\n",
    "        return 4.0 * r * x_i * (1.0 - x_i)\n",
    "\n",
    "    n = ntransient + nplot * 2\n",
    "    x = [x0]\n",
    "    for i in np.arange(n):\n",
    "        x.append(logistic(x[i], r))\n",
    "    x = np.array(x)\n",
    "    plt.scatter([r] * nplot, x[ntransient + 1:ntransient + nplot + 1],\n",
    "                color='r', s=0.1, marker='.'\n",
    "               )\n",
    "    plt.scatter([r] * nplot, x[ntransient + nplot + 1:n + 1],\n",
    "                color='b', s=0.1, marker='.'\n",
    "               )"
   ]
  },
  {
   "cell_type": "code",
   "execution_count": 7,
   "metadata": {
    "collapsed": false,
    "slideshow": {
     "slide_type": "subslide"
    }
   },
   "outputs": [
    {
     "data": {
      "image/png": "[encoded data removed]",
      "text/plain": [
       "<matplotlib.figure.Figure at 0x7f6a91b228d0>"
      ]
     },
     "metadata": {},
     "output_type": "display_data"
    }
   ],
   "source": [
    "parameters = {'x0': 0.3,\n",
    "              'ntransient': 1000,\n",
    "              'nplot': 50,\n",
    "              'r0': 0.7,\n",
    "              'rmax': 1.,\n",
    "              'dr': 0.0005}\n",
    "\n",
    "bifurcate(**parameters)"
   ]
  }
 ],
 "metadata": {
  "kernelspec": {
   "display_name": "Python 2",
   "language": "python",
   "name": "python2"
  },
  "language_info": {
   "codemirror_mode": {
    "name": "ipython",
    "version": 2
   },
   "file_extension": ".py",
   "mimetype": "text/x-python",
   "name": "python",
   "nbconvert_exporter": "python",
   "pygments_lexer": "ipython2",
   "version": "2.7.6"
  },
  "widgets": {
   "state": {},
   "version": "1.0.0"
  }
 },
 "nbformat": 4,
 "nbformat_minor": 0
}
